{
  "nbformat": 4,
  "nbformat_minor": 0,
  "metadata": {
    "colab": {
      "provenance": [],
      "authorship_tag": "ABX9TyPDR9oRcwpDSHWqQEBkRsVH",
      "include_colab_link": true
    },
    "kernelspec": {
      "name": "python3",
      "display_name": "Python 3"
    },
    "language_info": {
      "name": "python"
    }
  },
  "cells": [
    {
      "cell_type": "markdown",
      "metadata": {
        "id": "view-in-github",
        "colab_type": "text"
      },
      "source": [
        "<a href=\"https://colab.research.google.com/github/Edy-Mochamad/MachineLearning-ArtificialNeuralNetwork-CarPurchasing/blob/main/car_purchasing.ipynb\" target=\"_parent\"><img src=\"https://colab.research.google.com/assets/colab-badge.svg\" alt=\"Open In Colab\"/></a>"
      ]
    },
    {
      "cell_type": "markdown",
      "source": [
        "## **Car Purchasing Amount Using Machine Learning.**"
      ],
      "metadata": {
        "id": "umqfvuHWjtLD"
      }
    },
    {
      "cell_type": "code",
      "source": [
        "import warnings\n",
        "warnings.filterwarnings('ignore')"
      ],
      "metadata": {
        "id": "BkvWKE5vjC_O"
      },
      "execution_count": 31,
      "outputs": []
    },
    {
      "cell_type": "markdown",
      "source": [
        "### **Import Dataset**"
      ],
      "metadata": {
        "id": "6cLm-v7ajYbx"
      }
    },
    {
      "cell_type": "code",
      "execution_count": 2,
      "metadata": {
        "id": "VxsI0vO3gHbU"
      },
      "outputs": [],
      "source": [
        "import pandas as pd\n",
        "import csv"
      ]
    },
    {
      "cell_type": "code",
      "source": [
        "dataset = '/content/sample_data/purchasing_data.csv'\n",
        "with open(dataset) as inisial_file:\n",
        "  read_file = csv.reader(inisial_file, delimiter = ',')\n",
        "  for row in read_file:\n",
        "    print(row)"
      ],
      "metadata": {
        "id": "dcsFdylXhcYA"
      },
      "execution_count": null,
      "outputs": []
    },
    {
      "cell_type": "code",
      "source": [
        "data = pd.read_csv('/content/sample_data/purchasing_data.csv')\n",
        "data"
      ],
      "metadata": {
        "colab": {
          "base_uri": "https://localhost:8080/",
          "height": 424
        },
        "id": "4T1gMBEKgpMx",
        "outputId": "7deea148-78e2-4c9d-df3c-f54d581780af"
      },
      "execution_count": 4,
      "outputs": [
        {
          "output_type": "execute_result",
          "data": {
            "text/plain": [
              "       Customer Name                                    Customer e-mail  \\\n",
              "0      Martina Avila  cubilia.Curae.Phasellus@quisaccumsanconvallis.edu   \n",
              "1      Harlan Barnes                                eu.dolor@diam.co.uk   \n",
              "2    Naomi Rodriquez  vulputate.mauris.sagittis@ametconsectetueradip...   \n",
              "3    Jade Cunningham                            malesuada@dignissim.com   \n",
              "4       Cedric Leach     felis.ullamcorper.viverra@egetmollislectus.net   \n",
              "..               ...                                                ...   \n",
              "495           Walter                                ligula@Cumsociis.ca   \n",
              "496            Vanna                 Cum.sociis.natoque@Sedmolestie.edu   \n",
              "497            Pearl                      penatibus.et@massanonante.com   \n",
              "498             Nell                  Quisque.varius@arcuVivamussit.net   \n",
              "499            Marla                          Camaron.marla@hotmail.com   \n",
              "\n",
              "    Country  Gender  Age  Annual Salary  Credit Card Debt    Net Worth  \\\n",
              "0       USA       0   42    62812.09301      11609.380910  238961.2505   \n",
              "1       USA       0   41    66646.89292       9572.957136  530973.9078   \n",
              "2       USA       1   43    53798.55112      11160.355060  638467.1773   \n",
              "3       USA       1   58    79370.03798      14426.164850  548599.0524   \n",
              "4       USA       1   57    59729.15130       5358.712177  560304.0671   \n",
              "..      ...     ...  ...            ...               ...          ...   \n",
              "495     USA       0   41    71942.40291       6995.902524  541670.1016   \n",
              "496     USA       1   38    56039.49793      12301.456790  360419.0988   \n",
              "497     USA       1   54    68888.77805      10611.606860  764531.3203   \n",
              "498     USA       1   59    49811.99062      14013.034510  337826.6382   \n",
              "499     USA       1   47    61370.67766       9391.341628  462946.4924   \n",
              "\n",
              "     Car Purchase Amount  \n",
              "0            35321.45877  \n",
              "1            45115.52566  \n",
              "2            42925.70921  \n",
              "3            67422.36313  \n",
              "4            55915.46248  \n",
              "..                   ...  \n",
              "495          48901.44342  \n",
              "496          31491.41457  \n",
              "497          64147.28888  \n",
              "498          45442.15353  \n",
              "499          45107.22566  \n",
              "\n",
              "[500 rows x 9 columns]"
            ],
            "text/html": [
              "\n",
              "  <div id=\"df-a3f28f9f-16d1-4f9a-90ad-531a5be13467\" class=\"colab-df-container\">\n",
              "    <div>\n",
              "<style scoped>\n",
              "    .dataframe tbody tr th:only-of-type {\n",
              "        vertical-align: middle;\n",
              "    }\n",
              "\n",
              "    .dataframe tbody tr th {\n",
              "        vertical-align: top;\n",
              "    }\n",
              "\n",
              "    .dataframe thead th {\n",
              "        text-align: right;\n",
              "    }\n",
              "</style>\n",
              "<table border=\"1\" class=\"dataframe\">\n",
              "  <thead>\n",
              "    <tr style=\"text-align: right;\">\n",
              "      <th></th>\n",
              "      <th>Customer Name</th>\n",
              "      <th>Customer e-mail</th>\n",
              "      <th>Country</th>\n",
              "      <th>Gender</th>\n",
              "      <th>Age</th>\n",
              "      <th>Annual Salary</th>\n",
              "      <th>Credit Card Debt</th>\n",
              "      <th>Net Worth</th>\n",
              "      <th>Car Purchase Amount</th>\n",
              "    </tr>\n",
              "  </thead>\n",
              "  <tbody>\n",
              "    <tr>\n",
              "      <th>0</th>\n",
              "      <td>Martina Avila</td>\n",
              "      <td>cubilia.Curae.Phasellus@quisaccumsanconvallis.edu</td>\n",
              "      <td>USA</td>\n",
              "      <td>0</td>\n",
              "      <td>42</td>\n",
              "      <td>62812.09301</td>\n",
              "      <td>11609.380910</td>\n",
              "      <td>238961.2505</td>\n",
              "      <td>35321.45877</td>\n",
              "    </tr>\n",
              "    <tr>\n",
              "      <th>1</th>\n",
              "      <td>Harlan Barnes</td>\n",
              "      <td>eu.dolor@diam.co.uk</td>\n",
              "      <td>USA</td>\n",
              "      <td>0</td>\n",
              "      <td>41</td>\n",
              "      <td>66646.89292</td>\n",
              "      <td>9572.957136</td>\n",
              "      <td>530973.9078</td>\n",
              "      <td>45115.52566</td>\n",
              "    </tr>\n",
              "    <tr>\n",
              "      <th>2</th>\n",
              "      <td>Naomi Rodriquez</td>\n",
              "      <td>vulputate.mauris.sagittis@ametconsectetueradip...</td>\n",
              "      <td>USA</td>\n",
              "      <td>1</td>\n",
              "      <td>43</td>\n",
              "      <td>53798.55112</td>\n",
              "      <td>11160.355060</td>\n",
              "      <td>638467.1773</td>\n",
              "      <td>42925.70921</td>\n",
              "    </tr>\n",
              "    <tr>\n",
              "      <th>3</th>\n",
              "      <td>Jade Cunningham</td>\n",
              "      <td>malesuada@dignissim.com</td>\n",
              "      <td>USA</td>\n",
              "      <td>1</td>\n",
              "      <td>58</td>\n",
              "      <td>79370.03798</td>\n",
              "      <td>14426.164850</td>\n",
              "      <td>548599.0524</td>\n",
              "      <td>67422.36313</td>\n",
              "    </tr>\n",
              "    <tr>\n",
              "      <th>4</th>\n",
              "      <td>Cedric Leach</td>\n",
              "      <td>felis.ullamcorper.viverra@egetmollislectus.net</td>\n",
              "      <td>USA</td>\n",
              "      <td>1</td>\n",
              "      <td>57</td>\n",
              "      <td>59729.15130</td>\n",
              "      <td>5358.712177</td>\n",
              "      <td>560304.0671</td>\n",
              "      <td>55915.46248</td>\n",
              "    </tr>\n",
              "    <tr>\n",
              "      <th>...</th>\n",
              "      <td>...</td>\n",
              "      <td>...</td>\n",
              "      <td>...</td>\n",
              "      <td>...</td>\n",
              "      <td>...</td>\n",
              "      <td>...</td>\n",
              "      <td>...</td>\n",
              "      <td>...</td>\n",
              "      <td>...</td>\n",
              "    </tr>\n",
              "    <tr>\n",
              "      <th>495</th>\n",
              "      <td>Walter</td>\n",
              "      <td>ligula@Cumsociis.ca</td>\n",
              "      <td>USA</td>\n",
              "      <td>0</td>\n",
              "      <td>41</td>\n",
              "      <td>71942.40291</td>\n",
              "      <td>6995.902524</td>\n",
              "      <td>541670.1016</td>\n",
              "      <td>48901.44342</td>\n",
              "    </tr>\n",
              "    <tr>\n",
              "      <th>496</th>\n",
              "      <td>Vanna</td>\n",
              "      <td>Cum.sociis.natoque@Sedmolestie.edu</td>\n",
              "      <td>USA</td>\n",
              "      <td>1</td>\n",
              "      <td>38</td>\n",
              "      <td>56039.49793</td>\n",
              "      <td>12301.456790</td>\n",
              "      <td>360419.0988</td>\n",
              "      <td>31491.41457</td>\n",
              "    </tr>\n",
              "    <tr>\n",
              "      <th>497</th>\n",
              "      <td>Pearl</td>\n",
              "      <td>penatibus.et@massanonante.com</td>\n",
              "      <td>USA</td>\n",
              "      <td>1</td>\n",
              "      <td>54</td>\n",
              "      <td>68888.77805</td>\n",
              "      <td>10611.606860</td>\n",
              "      <td>764531.3203</td>\n",
              "      <td>64147.28888</td>\n",
              "    </tr>\n",
              "    <tr>\n",
              "      <th>498</th>\n",
              "      <td>Nell</td>\n",
              "      <td>Quisque.varius@arcuVivamussit.net</td>\n",
              "      <td>USA</td>\n",
              "      <td>1</td>\n",
              "      <td>59</td>\n",
              "      <td>49811.99062</td>\n",
              "      <td>14013.034510</td>\n",
              "      <td>337826.6382</td>\n",
              "      <td>45442.15353</td>\n",
              "    </tr>\n",
              "    <tr>\n",
              "      <th>499</th>\n",
              "      <td>Marla</td>\n",
              "      <td>Camaron.marla@hotmail.com</td>\n",
              "      <td>USA</td>\n",
              "      <td>1</td>\n",
              "      <td>47</td>\n",
              "      <td>61370.67766</td>\n",
              "      <td>9391.341628</td>\n",
              "      <td>462946.4924</td>\n",
              "      <td>45107.22566</td>\n",
              "    </tr>\n",
              "  </tbody>\n",
              "</table>\n",
              "<p>500 rows × 9 columns</p>\n",
              "</div>\n",
              "    <div class=\"colab-df-buttons\">\n",
              "\n",
              "  <div class=\"colab-df-container\">\n",
              "    <button class=\"colab-df-convert\" onclick=\"convertToInteractive('df-a3f28f9f-16d1-4f9a-90ad-531a5be13467')\"\n",
              "            title=\"Convert this dataframe to an interactive table.\"\n",
              "            style=\"display:none;\">\n",
              "\n",
              "  <svg xmlns=\"http://www.w3.org/2000/svg\" height=\"24px\" viewBox=\"0 -960 960 960\">\n",
              "    <path d=\"M120-120v-720h720v720H120Zm60-500h600v-160H180v160Zm220 220h160v-160H400v160Zm0 220h160v-160H400v160ZM180-400h160v-160H180v160Zm440 0h160v-160H620v160ZM180-180h160v-160H180v160Zm440 0h160v-160H620v160Z\"/>\n",
              "  </svg>\n",
              "    </button>\n",
              "\n",
              "  <style>\n",
              "    .colab-df-container {\n",
              "      display:flex;\n",
              "      gap: 12px;\n",
              "    }\n",
              "\n",
              "    .colab-df-convert {\n",
              "      background-color: #E8F0FE;\n",
              "      border: none;\n",
              "      border-radius: 50%;\n",
              "      cursor: pointer;\n",
              "      display: none;\n",
              "      fill: #1967D2;\n",
              "      height: 32px;\n",
              "      padding: 0 0 0 0;\n",
              "      width: 32px;\n",
              "    }\n",
              "\n",
              "    .colab-df-convert:hover {\n",
              "      background-color: #E2EBFA;\n",
              "      box-shadow: 0px 1px 2px rgba(60, 64, 67, 0.3), 0px 1px 3px 1px rgba(60, 64, 67, 0.15);\n",
              "      fill: #174EA6;\n",
              "    }\n",
              "\n",
              "    .colab-df-buttons div {\n",
              "      margin-bottom: 4px;\n",
              "    }\n",
              "\n",
              "    [theme=dark] .colab-df-convert {\n",
              "      background-color: #3B4455;\n",
              "      fill: #D2E3FC;\n",
              "    }\n",
              "\n",
              "    [theme=dark] .colab-df-convert:hover {\n",
              "      background-color: #434B5C;\n",
              "      box-shadow: 0px 1px 3px 1px rgba(0, 0, 0, 0.15);\n",
              "      filter: drop-shadow(0px 1px 2px rgba(0, 0, 0, 0.3));\n",
              "      fill: #FFFFFF;\n",
              "    }\n",
              "  </style>\n",
              "\n",
              "    <script>\n",
              "      const buttonEl =\n",
              "        document.querySelector('#df-a3f28f9f-16d1-4f9a-90ad-531a5be13467 button.colab-df-convert');\n",
              "      buttonEl.style.display =\n",
              "        google.colab.kernel.accessAllowed ? 'block' : 'none';\n",
              "\n",
              "      async function convertToInteractive(key) {\n",
              "        const element = document.querySelector('#df-a3f28f9f-16d1-4f9a-90ad-531a5be13467');\n",
              "        const dataTable =\n",
              "          await google.colab.kernel.invokeFunction('convertToInteractive',\n",
              "                                                    [key], {});\n",
              "        if (!dataTable) return;\n",
              "\n",
              "        const docLinkHtml = 'Like what you see? Visit the ' +\n",
              "          '<a target=\"_blank\" href=https://colab.research.google.com/notebooks/data_table.ipynb>data table notebook</a>'\n",
              "          + ' to learn more about interactive tables.';\n",
              "        element.innerHTML = '';\n",
              "        dataTable['output_type'] = 'display_data';\n",
              "        await google.colab.output.renderOutput(dataTable, element);\n",
              "        const docLink = document.createElement('div');\n",
              "        docLink.innerHTML = docLinkHtml;\n",
              "        element.appendChild(docLink);\n",
              "      }\n",
              "    </script>\n",
              "  </div>\n",
              "\n",
              "\n",
              "<div id=\"df-cd951271-e53d-48f6-9e6a-56d4ce286cb0\">\n",
              "  <button class=\"colab-df-quickchart\" onclick=\"quickchart('df-cd951271-e53d-48f6-9e6a-56d4ce286cb0')\"\n",
              "            title=\"Suggest charts\"\n",
              "            style=\"display:none;\">\n",
              "\n",
              "<svg xmlns=\"http://www.w3.org/2000/svg\" height=\"24px\"viewBox=\"0 0 24 24\"\n",
              "     width=\"24px\">\n",
              "    <g>\n",
              "        <path d=\"M19 3H5c-1.1 0-2 .9-2 2v14c0 1.1.9 2 2 2h14c1.1 0 2-.9 2-2V5c0-1.1-.9-2-2-2zM9 17H7v-7h2v7zm4 0h-2V7h2v10zm4 0h-2v-4h2v4z\"/>\n",
              "    </g>\n",
              "</svg>\n",
              "  </button>\n",
              "\n",
              "<style>\n",
              "  .colab-df-quickchart {\n",
              "      --bg-color: #E8F0FE;\n",
              "      --fill-color: #1967D2;\n",
              "      --hover-bg-color: #E2EBFA;\n",
              "      --hover-fill-color: #174EA6;\n",
              "      --disabled-fill-color: #AAA;\n",
              "      --disabled-bg-color: #DDD;\n",
              "  }\n",
              "\n",
              "  [theme=dark] .colab-df-quickchart {\n",
              "      --bg-color: #3B4455;\n",
              "      --fill-color: #D2E3FC;\n",
              "      --hover-bg-color: #434B5C;\n",
              "      --hover-fill-color: #FFFFFF;\n",
              "      --disabled-bg-color: #3B4455;\n",
              "      --disabled-fill-color: #666;\n",
              "  }\n",
              "\n",
              "  .colab-df-quickchart {\n",
              "    background-color: var(--bg-color);\n",
              "    border: none;\n",
              "    border-radius: 50%;\n",
              "    cursor: pointer;\n",
              "    display: none;\n",
              "    fill: var(--fill-color);\n",
              "    height: 32px;\n",
              "    padding: 0;\n",
              "    width: 32px;\n",
              "  }\n",
              "\n",
              "  .colab-df-quickchart:hover {\n",
              "    background-color: var(--hover-bg-color);\n",
              "    box-shadow: 0 1px 2px rgba(60, 64, 67, 0.3), 0 1px 3px 1px rgba(60, 64, 67, 0.15);\n",
              "    fill: var(--button-hover-fill-color);\n",
              "  }\n",
              "\n",
              "  .colab-df-quickchart-complete:disabled,\n",
              "  .colab-df-quickchart-complete:disabled:hover {\n",
              "    background-color: var(--disabled-bg-color);\n",
              "    fill: var(--disabled-fill-color);\n",
              "    box-shadow: none;\n",
              "  }\n",
              "\n",
              "  .colab-df-spinner {\n",
              "    border: 2px solid var(--fill-color);\n",
              "    border-color: transparent;\n",
              "    border-bottom-color: var(--fill-color);\n",
              "    animation:\n",
              "      spin 1s steps(1) infinite;\n",
              "  }\n",
              "\n",
              "  @keyframes spin {\n",
              "    0% {\n",
              "      border-color: transparent;\n",
              "      border-bottom-color: var(--fill-color);\n",
              "      border-left-color: var(--fill-color);\n",
              "    }\n",
              "    20% {\n",
              "      border-color: transparent;\n",
              "      border-left-color: var(--fill-color);\n",
              "      border-top-color: var(--fill-color);\n",
              "    }\n",
              "    30% {\n",
              "      border-color: transparent;\n",
              "      border-left-color: var(--fill-color);\n",
              "      border-top-color: var(--fill-color);\n",
              "      border-right-color: var(--fill-color);\n",
              "    }\n",
              "    40% {\n",
              "      border-color: transparent;\n",
              "      border-right-color: var(--fill-color);\n",
              "      border-top-color: var(--fill-color);\n",
              "    }\n",
              "    60% {\n",
              "      border-color: transparent;\n",
              "      border-right-color: var(--fill-color);\n",
              "    }\n",
              "    80% {\n",
              "      border-color: transparent;\n",
              "      border-right-color: var(--fill-color);\n",
              "      border-bottom-color: var(--fill-color);\n",
              "    }\n",
              "    90% {\n",
              "      border-color: transparent;\n",
              "      border-bottom-color: var(--fill-color);\n",
              "    }\n",
              "  }\n",
              "</style>\n",
              "\n",
              "  <script>\n",
              "    async function quickchart(key) {\n",
              "      const quickchartButtonEl =\n",
              "        document.querySelector('#' + key + ' button');\n",
              "      quickchartButtonEl.disabled = true;  // To prevent multiple clicks.\n",
              "      quickchartButtonEl.classList.add('colab-df-spinner');\n",
              "      try {\n",
              "        const charts = await google.colab.kernel.invokeFunction(\n",
              "            'suggestCharts', [key], {});\n",
              "      } catch (error) {\n",
              "        console.error('Error during call to suggestCharts:', error);\n",
              "      }\n",
              "      quickchartButtonEl.classList.remove('colab-df-spinner');\n",
              "      quickchartButtonEl.classList.add('colab-df-quickchart-complete');\n",
              "    }\n",
              "    (() => {\n",
              "      let quickchartButtonEl =\n",
              "        document.querySelector('#df-cd951271-e53d-48f6-9e6a-56d4ce286cb0 button');\n",
              "      quickchartButtonEl.style.display =\n",
              "        google.colab.kernel.accessAllowed ? 'block' : 'none';\n",
              "    })();\n",
              "  </script>\n",
              "</div>\n",
              "    </div>\n",
              "  </div>\n"
            ]
          },
          "metadata": {},
          "execution_count": 4
        }
      ]
    },
    {
      "cell_type": "markdown",
      "source": [
        "### **Check info about the dataset**"
      ],
      "metadata": {
        "id": "4IrZpa2bkDfd"
      }
    },
    {
      "cell_type": "code",
      "source": [
        "data.info()"
      ],
      "metadata": {
        "colab": {
          "base_uri": "https://localhost:8080/"
        },
        "id": "8GUhvS9Xg0az",
        "outputId": "542f15bf-d5c7-4991-d6bf-06321f053355"
      },
      "execution_count": 5,
      "outputs": [
        {
          "output_type": "stream",
          "name": "stdout",
          "text": [
            "<class 'pandas.core.frame.DataFrame'>\n",
            "RangeIndex: 500 entries, 0 to 499\n",
            "Data columns (total 9 columns):\n",
            " #   Column               Non-Null Count  Dtype  \n",
            "---  ------               --------------  -----  \n",
            " 0   Customer Name        500 non-null    object \n",
            " 1   Customer e-mail      500 non-null    object \n",
            " 2   Country              500 non-null    object \n",
            " 3   Gender               500 non-null    int64  \n",
            " 4   Age                  500 non-null    int64  \n",
            " 5   Annual Salary        500 non-null    float64\n",
            " 6   Credit Card Debt     500 non-null    float64\n",
            " 7   Net Worth            500 non-null    float64\n",
            " 8   Car Purchase Amount  500 non-null    float64\n",
            "dtypes: float64(4), int64(2), object(3)\n",
            "memory usage: 35.3+ KB\n"
          ]
        }
      ]
    },
    {
      "cell_type": "markdown",
      "source": [
        "### **Check Missing Value**"
      ],
      "metadata": {
        "id": "LJbNuijwkbWW"
      }
    },
    {
      "cell_type": "code",
      "source": [
        "data.isnull().sum()"
      ],
      "metadata": {
        "colab": {
          "base_uri": "https://localhost:8080/"
        },
        "id": "OaOpAd2ikRgc",
        "outputId": "2d92a60a-7183-40dc-e79d-8efd4c1bc938"
      },
      "execution_count": 6,
      "outputs": [
        {
          "output_type": "execute_result",
          "data": {
            "text/plain": [
              "Customer Name          0\n",
              "Customer e-mail        0\n",
              "Country                0\n",
              "Gender                 0\n",
              "Age                    0\n",
              "Annual Salary          0\n",
              "Credit Card Debt       0\n",
              "Net Worth              0\n",
              "Car Purchase Amount    0\n",
              "dtype: int64"
            ]
          },
          "metadata": {},
          "execution_count": 6
        }
      ]
    },
    {
      "cell_type": "markdown",
      "source": [
        "### **Get statistic from dataset**"
      ],
      "metadata": {
        "id": "SvLfjlvpkScn"
      }
    },
    {
      "cell_type": "code",
      "source": [
        "data.describe()"
      ],
      "metadata": {
        "colab": {
          "base_uri": "https://localhost:8080/",
          "height": 300
        },
        "id": "oCrhxttokPrd",
        "outputId": "294efd66-40f8-47b7-8e0f-fb4628e4079d"
      },
      "execution_count": 7,
      "outputs": [
        {
          "output_type": "execute_result",
          "data": {
            "text/plain": [
              "           Gender         Age  Annual Salary  Credit Card Debt  \\\n",
              "count  500.000000  500.000000     500.000000        500.000000   \n",
              "mean     0.506000   46.224000   62127.239608       9607.645049   \n",
              "std      0.500465    7.990339   11703.378228       3489.187973   \n",
              "min      0.000000   20.000000   20000.000000        100.000000   \n",
              "25%      0.000000   41.000000   54391.977195       7397.515792   \n",
              "50%      1.000000   46.000000   62915.497035       9655.035568   \n",
              "75%      1.000000   52.000000   70117.862005      11798.867487   \n",
              "max      1.000000   70.000000  100000.000000      20000.000000   \n",
              "\n",
              "            Net Worth  Car Purchase Amount  \n",
              "count      500.000000           500.000000  \n",
              "mean    431475.713625         44209.799218  \n",
              "std     173536.756340         10773.178744  \n",
              "min      20000.000000          9000.000000  \n",
              "25%     299824.195900         37629.896040  \n",
              "50%     426750.120650         43997.783390  \n",
              "75%     557324.478725         51254.709517  \n",
              "max    1000000.000000         80000.000000  "
            ],
            "text/html": [
              "\n",
              "  <div id=\"df-7995fb6d-ab90-40a1-a2a6-13b1491377d4\" class=\"colab-df-container\">\n",
              "    <div>\n",
              "<style scoped>\n",
              "    .dataframe tbody tr th:only-of-type {\n",
              "        vertical-align: middle;\n",
              "    }\n",
              "\n",
              "    .dataframe tbody tr th {\n",
              "        vertical-align: top;\n",
              "    }\n",
              "\n",
              "    .dataframe thead th {\n",
              "        text-align: right;\n",
              "    }\n",
              "</style>\n",
              "<table border=\"1\" class=\"dataframe\">\n",
              "  <thead>\n",
              "    <tr style=\"text-align: right;\">\n",
              "      <th></th>\n",
              "      <th>Gender</th>\n",
              "      <th>Age</th>\n",
              "      <th>Annual Salary</th>\n",
              "      <th>Credit Card Debt</th>\n",
              "      <th>Net Worth</th>\n",
              "      <th>Car Purchase Amount</th>\n",
              "    </tr>\n",
              "  </thead>\n",
              "  <tbody>\n",
              "    <tr>\n",
              "      <th>count</th>\n",
              "      <td>500.000000</td>\n",
              "      <td>500.000000</td>\n",
              "      <td>500.000000</td>\n",
              "      <td>500.000000</td>\n",
              "      <td>500.000000</td>\n",
              "      <td>500.000000</td>\n",
              "    </tr>\n",
              "    <tr>\n",
              "      <th>mean</th>\n",
              "      <td>0.506000</td>\n",
              "      <td>46.224000</td>\n",
              "      <td>62127.239608</td>\n",
              "      <td>9607.645049</td>\n",
              "      <td>431475.713625</td>\n",
              "      <td>44209.799218</td>\n",
              "    </tr>\n",
              "    <tr>\n",
              "      <th>std</th>\n",
              "      <td>0.500465</td>\n",
              "      <td>7.990339</td>\n",
              "      <td>11703.378228</td>\n",
              "      <td>3489.187973</td>\n",
              "      <td>173536.756340</td>\n",
              "      <td>10773.178744</td>\n",
              "    </tr>\n",
              "    <tr>\n",
              "      <th>min</th>\n",
              "      <td>0.000000</td>\n",
              "      <td>20.000000</td>\n",
              "      <td>20000.000000</td>\n",
              "      <td>100.000000</td>\n",
              "      <td>20000.000000</td>\n",
              "      <td>9000.000000</td>\n",
              "    </tr>\n",
              "    <tr>\n",
              "      <th>25%</th>\n",
              "      <td>0.000000</td>\n",
              "      <td>41.000000</td>\n",
              "      <td>54391.977195</td>\n",
              "      <td>7397.515792</td>\n",
              "      <td>299824.195900</td>\n",
              "      <td>37629.896040</td>\n",
              "    </tr>\n",
              "    <tr>\n",
              "      <th>50%</th>\n",
              "      <td>1.000000</td>\n",
              "      <td>46.000000</td>\n",
              "      <td>62915.497035</td>\n",
              "      <td>9655.035568</td>\n",
              "      <td>426750.120650</td>\n",
              "      <td>43997.783390</td>\n",
              "    </tr>\n",
              "    <tr>\n",
              "      <th>75%</th>\n",
              "      <td>1.000000</td>\n",
              "      <td>52.000000</td>\n",
              "      <td>70117.862005</td>\n",
              "      <td>11798.867487</td>\n",
              "      <td>557324.478725</td>\n",
              "      <td>51254.709517</td>\n",
              "    </tr>\n",
              "    <tr>\n",
              "      <th>max</th>\n",
              "      <td>1.000000</td>\n",
              "      <td>70.000000</td>\n",
              "      <td>100000.000000</td>\n",
              "      <td>20000.000000</td>\n",
              "      <td>1000000.000000</td>\n",
              "      <td>80000.000000</td>\n",
              "    </tr>\n",
              "  </tbody>\n",
              "</table>\n",
              "</div>\n",
              "    <div class=\"colab-df-buttons\">\n",
              "\n",
              "  <div class=\"colab-df-container\">\n",
              "    <button class=\"colab-df-convert\" onclick=\"convertToInteractive('df-7995fb6d-ab90-40a1-a2a6-13b1491377d4')\"\n",
              "            title=\"Convert this dataframe to an interactive table.\"\n",
              "            style=\"display:none;\">\n",
              "\n",
              "  <svg xmlns=\"http://www.w3.org/2000/svg\" height=\"24px\" viewBox=\"0 -960 960 960\">\n",
              "    <path d=\"M120-120v-720h720v720H120Zm60-500h600v-160H180v160Zm220 220h160v-160H400v160Zm0 220h160v-160H400v160ZM180-400h160v-160H180v160Zm440 0h160v-160H620v160ZM180-180h160v-160H180v160Zm440 0h160v-160H620v160Z\"/>\n",
              "  </svg>\n",
              "    </button>\n",
              "\n",
              "  <style>\n",
              "    .colab-df-container {\n",
              "      display:flex;\n",
              "      gap: 12px;\n",
              "    }\n",
              "\n",
              "    .colab-df-convert {\n",
              "      background-color: #E8F0FE;\n",
              "      border: none;\n",
              "      border-radius: 50%;\n",
              "      cursor: pointer;\n",
              "      display: none;\n",
              "      fill: #1967D2;\n",
              "      height: 32px;\n",
              "      padding: 0 0 0 0;\n",
              "      width: 32px;\n",
              "    }\n",
              "\n",
              "    .colab-df-convert:hover {\n",
              "      background-color: #E2EBFA;\n",
              "      box-shadow: 0px 1px 2px rgba(60, 64, 67, 0.3), 0px 1px 3px 1px rgba(60, 64, 67, 0.15);\n",
              "      fill: #174EA6;\n",
              "    }\n",
              "\n",
              "    .colab-df-buttons div {\n",
              "      margin-bottom: 4px;\n",
              "    }\n",
              "\n",
              "    [theme=dark] .colab-df-convert {\n",
              "      background-color: #3B4455;\n",
              "      fill: #D2E3FC;\n",
              "    }\n",
              "\n",
              "    [theme=dark] .colab-df-convert:hover {\n",
              "      background-color: #434B5C;\n",
              "      box-shadow: 0px 1px 3px 1px rgba(0, 0, 0, 0.15);\n",
              "      filter: drop-shadow(0px 1px 2px rgba(0, 0, 0, 0.3));\n",
              "      fill: #FFFFFF;\n",
              "    }\n",
              "  </style>\n",
              "\n",
              "    <script>\n",
              "      const buttonEl =\n",
              "        document.querySelector('#df-7995fb6d-ab90-40a1-a2a6-13b1491377d4 button.colab-df-convert');\n",
              "      buttonEl.style.display =\n",
              "        google.colab.kernel.accessAllowed ? 'block' : 'none';\n",
              "\n",
              "      async function convertToInteractive(key) {\n",
              "        const element = document.querySelector('#df-7995fb6d-ab90-40a1-a2a6-13b1491377d4');\n",
              "        const dataTable =\n",
              "          await google.colab.kernel.invokeFunction('convertToInteractive',\n",
              "                                                    [key], {});\n",
              "        if (!dataTable) return;\n",
              "\n",
              "        const docLinkHtml = 'Like what you see? Visit the ' +\n",
              "          '<a target=\"_blank\" href=https://colab.research.google.com/notebooks/data_table.ipynb>data table notebook</a>'\n",
              "          + ' to learn more about interactive tables.';\n",
              "        element.innerHTML = '';\n",
              "        dataTable['output_type'] = 'display_data';\n",
              "        await google.colab.output.renderOutput(dataTable, element);\n",
              "        const docLink = document.createElement('div');\n",
              "        docLink.innerHTML = docLinkHtml;\n",
              "        element.appendChild(docLink);\n",
              "      }\n",
              "    </script>\n",
              "  </div>\n",
              "\n",
              "\n",
              "<div id=\"df-48f375f1-a018-48e7-b978-ec6e3cb23300\">\n",
              "  <button class=\"colab-df-quickchart\" onclick=\"quickchart('df-48f375f1-a018-48e7-b978-ec6e3cb23300')\"\n",
              "            title=\"Suggest charts\"\n",
              "            style=\"display:none;\">\n",
              "\n",
              "<svg xmlns=\"http://www.w3.org/2000/svg\" height=\"24px\"viewBox=\"0 0 24 24\"\n",
              "     width=\"24px\">\n",
              "    <g>\n",
              "        <path d=\"M19 3H5c-1.1 0-2 .9-2 2v14c0 1.1.9 2 2 2h14c1.1 0 2-.9 2-2V5c0-1.1-.9-2-2-2zM9 17H7v-7h2v7zm4 0h-2V7h2v10zm4 0h-2v-4h2v4z\"/>\n",
              "    </g>\n",
              "</svg>\n",
              "  </button>\n",
              "\n",
              "<style>\n",
              "  .colab-df-quickchart {\n",
              "      --bg-color: #E8F0FE;\n",
              "      --fill-color: #1967D2;\n",
              "      --hover-bg-color: #E2EBFA;\n",
              "      --hover-fill-color: #174EA6;\n",
              "      --disabled-fill-color: #AAA;\n",
              "      --disabled-bg-color: #DDD;\n",
              "  }\n",
              "\n",
              "  [theme=dark] .colab-df-quickchart {\n",
              "      --bg-color: #3B4455;\n",
              "      --fill-color: #D2E3FC;\n",
              "      --hover-bg-color: #434B5C;\n",
              "      --hover-fill-color: #FFFFFF;\n",
              "      --disabled-bg-color: #3B4455;\n",
              "      --disabled-fill-color: #666;\n",
              "  }\n",
              "\n",
              "  .colab-df-quickchart {\n",
              "    background-color: var(--bg-color);\n",
              "    border: none;\n",
              "    border-radius: 50%;\n",
              "    cursor: pointer;\n",
              "    display: none;\n",
              "    fill: var(--fill-color);\n",
              "    height: 32px;\n",
              "    padding: 0;\n",
              "    width: 32px;\n",
              "  }\n",
              "\n",
              "  .colab-df-quickchart:hover {\n",
              "    background-color: var(--hover-bg-color);\n",
              "    box-shadow: 0 1px 2px rgba(60, 64, 67, 0.3), 0 1px 3px 1px rgba(60, 64, 67, 0.15);\n",
              "    fill: var(--button-hover-fill-color);\n",
              "  }\n",
              "\n",
              "  .colab-df-quickchart-complete:disabled,\n",
              "  .colab-df-quickchart-complete:disabled:hover {\n",
              "    background-color: var(--disabled-bg-color);\n",
              "    fill: var(--disabled-fill-color);\n",
              "    box-shadow: none;\n",
              "  }\n",
              "\n",
              "  .colab-df-spinner {\n",
              "    border: 2px solid var(--fill-color);\n",
              "    border-color: transparent;\n",
              "    border-bottom-color: var(--fill-color);\n",
              "    animation:\n",
              "      spin 1s steps(1) infinite;\n",
              "  }\n",
              "\n",
              "  @keyframes spin {\n",
              "    0% {\n",
              "      border-color: transparent;\n",
              "      border-bottom-color: var(--fill-color);\n",
              "      border-left-color: var(--fill-color);\n",
              "    }\n",
              "    20% {\n",
              "      border-color: transparent;\n",
              "      border-left-color: var(--fill-color);\n",
              "      border-top-color: var(--fill-color);\n",
              "    }\n",
              "    30% {\n",
              "      border-color: transparent;\n",
              "      border-left-color: var(--fill-color);\n",
              "      border-top-color: var(--fill-color);\n",
              "      border-right-color: var(--fill-color);\n",
              "    }\n",
              "    40% {\n",
              "      border-color: transparent;\n",
              "      border-right-color: var(--fill-color);\n",
              "      border-top-color: var(--fill-color);\n",
              "    }\n",
              "    60% {\n",
              "      border-color: transparent;\n",
              "      border-right-color: var(--fill-color);\n",
              "    }\n",
              "    80% {\n",
              "      border-color: transparent;\n",
              "      border-right-color: var(--fill-color);\n",
              "      border-bottom-color: var(--fill-color);\n",
              "    }\n",
              "    90% {\n",
              "      border-color: transparent;\n",
              "      border-bottom-color: var(--fill-color);\n",
              "    }\n",
              "  }\n",
              "</style>\n",
              "\n",
              "  <script>\n",
              "    async function quickchart(key) {\n",
              "      const quickchartButtonEl =\n",
              "        document.querySelector('#' + key + ' button');\n",
              "      quickchartButtonEl.disabled = true;  // To prevent multiple clicks.\n",
              "      quickchartButtonEl.classList.add('colab-df-spinner');\n",
              "      try {\n",
              "        const charts = await google.colab.kernel.invokeFunction(\n",
              "            'suggestCharts', [key], {});\n",
              "      } catch (error) {\n",
              "        console.error('Error during call to suggestCharts:', error);\n",
              "      }\n",
              "      quickchartButtonEl.classList.remove('colab-df-spinner');\n",
              "      quickchartButtonEl.classList.add('colab-df-quickchart-complete');\n",
              "    }\n",
              "    (() => {\n",
              "      let quickchartButtonEl =\n",
              "        document.querySelector('#df-48f375f1-a018-48e7-b978-ec6e3cb23300 button');\n",
              "      quickchartButtonEl.style.display =\n",
              "        google.colab.kernel.accessAllowed ? 'block' : 'none';\n",
              "    })();\n",
              "  </script>\n",
              "</div>\n",
              "    </div>\n",
              "  </div>\n"
            ]
          },
          "metadata": {},
          "execution_count": 7
        }
      ]
    },
    {
      "cell_type": "markdown",
      "source": [
        "### **Store indeenden variable in X and dependen variable in y**"
      ],
      "metadata": {
        "id": "pSUzIeKEku0v"
      }
    },
    {
      "cell_type": "code",
      "source": [
        "data.columns"
      ],
      "metadata": {
        "colab": {
          "base_uri": "https://localhost:8080/"
        },
        "id": "kjWfBrYrkmUx",
        "outputId": "21f9068f-9ce7-4bc8-a54a-25b69ba6bb53"
      },
      "execution_count": 8,
      "outputs": [
        {
          "output_type": "execute_result",
          "data": {
            "text/plain": [
              "Index(['Customer Name', 'Customer e-mail', 'Country', 'Gender', 'Age',\n",
              "       'Annual Salary', 'Credit Card Debt', 'Net Worth',\n",
              "       'Car Purchase Amount'],\n",
              "      dtype='object')"
            ]
          },
          "metadata": {},
          "execution_count": 8
        }
      ]
    },
    {
      "cell_type": "code",
      "source": [
        "X = data.drop(['Customer Name', 'Customer e-mail', 'Country', 'Car Purchase Amount'], axis = 1)\n",
        "y = data['Car Purchase Amount']"
      ],
      "metadata": {
        "id": "2a1Z0fbik_vl"
      },
      "execution_count": 9,
      "outputs": []
    },
    {
      "cell_type": "markdown",
      "source": [
        "### **Feature Scalling(Normalization)**\n",
        "\n",
        "= untuk membuat data kita berskala antara 0 dan 1."
      ],
      "metadata": {
        "id": "B4WE3T0b9d3_"
      }
    },
    {
      "cell_type": "code",
      "source": [
        "from sklearn.preprocessing import MinMaxScaler"
      ],
      "metadata": {
        "id": "MBa3kTj7lSLp"
      },
      "execution_count": 10,
      "outputs": []
    },
    {
      "cell_type": "markdown",
      "source": [
        "**Independen variable**"
      ],
      "metadata": {
        "id": "r9mnexri-g6f"
      }
    },
    {
      "cell_type": "code",
      "source": [
        "sc1 = MinMaxScaler()\n",
        "X_scaled = sc1.fit_transform(X)\n",
        "\n",
        "X_scaled"
      ],
      "metadata": {
        "colab": {
          "base_uri": "https://localhost:8080/"
        },
        "id": "WAUCeeq1-eY1",
        "outputId": "be2d6883-1dd5-4d2b-d9c8-f0d70e05c702"
      },
      "execution_count": 11,
      "outputs": [
        {
          "output_type": "execute_result",
          "data": {
            "text/plain": [
              "array([[0.        , 0.44      , 0.53515116, 0.57836085, 0.22342985],\n",
              "       [0.        , 0.42      , 0.58308616, 0.476028  , 0.52140195],\n",
              "       [1.        , 0.46      , 0.42248189, 0.55579674, 0.63108896],\n",
              "       ...,\n",
              "       [1.        , 0.68      , 0.61110973, 0.52822145, 0.75972584],\n",
              "       [1.        , 0.78      , 0.37264988, 0.69914746, 0.3243129 ],\n",
              "       [1.        , 0.54      , 0.51713347, 0.46690159, 0.45198622]])"
            ]
          },
          "metadata": {},
          "execution_count": 11
        }
      ]
    },
    {
      "cell_type": "markdown",
      "source": [
        "**Dependen variable**"
      ],
      "metadata": {
        "id": "j8mL3ETb-xib"
      }
    },
    {
      "cell_type": "code",
      "source": [
        "y_reshape = y.values.reshape(-1, 1)"
      ],
      "metadata": {
        "id": "Mon4A8J6_CiI"
      },
      "execution_count": 13,
      "outputs": []
    },
    {
      "cell_type": "code",
      "source": [
        "sc2 = MinMaxScaler()\n",
        "y_scaled = sc2.fit_transform(y_reshape)\n",
        "\n",
        "y_scaled"
      ],
      "metadata": {
        "id": "OP00QXNM-tzk"
      },
      "execution_count": null,
      "outputs": []
    },
    {
      "cell_type": "markdown",
      "source": [
        "### **Split dataset inti Training set and Test set**"
      ],
      "metadata": {
        "id": "D7HBQWEk_Oqb"
      }
    },
    {
      "cell_type": "code",
      "source": [
        "from sklearn.model_selection import train_test_split"
      ],
      "metadata": {
        "id": "sdkX_bMd-__0"
      },
      "execution_count": 15,
      "outputs": []
    },
    {
      "cell_type": "code",
      "source": [
        "X_train, X_test, y_train, y_test = train_test_split(X_scaled, y_scaled, test_size = 0.20, random_state = 42)"
      ],
      "metadata": {
        "id": "Uegn-4Gw_ZiT"
      },
      "execution_count": 16,
      "outputs": []
    },
    {
      "cell_type": "markdown",
      "source": [
        "### **Import Models**"
      ],
      "metadata": {
        "id": "lQv5HwrCA871"
      }
    },
    {
      "cell_type": "code",
      "source": [
        "from sklearn.linear_model import LinearRegression\n",
        "from sklearn.svm import SVR\n",
        "from sklearn.ensemble import RandomForestRegressor\n",
        "from sklearn.ensemble import GradientBoostingRegressor\n",
        "from xgboost import XGBRegressor"
      ],
      "metadata": {
        "id": "6SPAiUmD_rC7"
      },
      "execution_count": 18,
      "outputs": []
    },
    {
      "cell_type": "markdown",
      "source": [
        "### **Model Training**"
      ],
      "metadata": {
        "id": "1kamRCpnBftn"
      }
    },
    {
      "cell_type": "code",
      "source": [
        "lr = LinearRegression()\n",
        "lr.fit(X_train, y_train)\n",
        "\n",
        "svm = SVR()\n",
        "svm.fit(X_train, y_train)\n",
        "\n",
        "rf = RandomForestRegressor()\n",
        "rf.fit(X_train, y_train)\n",
        "\n",
        "gbr = GradientBoostingRegressor()\n",
        "gbr.fit(X_train, y_train)\n",
        "\n",
        "xgb = XGBRegressor()\n",
        "xgb.fit(X_train, y_train)"
      ],
      "metadata": {
        "colab": {
          "base_uri": "https://localhost:8080/",
          "height": 248
        },
        "id": "sxPoL-aWBaom",
        "outputId": "43efd3dc-c6ad-4af8-f9fb-241247af1aa8"
      },
      "execution_count": 19,
      "outputs": [
        {
          "output_type": "execute_result",
          "data": {
            "text/plain": [
              "XGBRegressor(base_score=None, booster=None, callbacks=None,\n",
              "             colsample_bylevel=None, colsample_bynode=None,\n",
              "             colsample_bytree=None, device=None, early_stopping_rounds=None,\n",
              "             enable_categorical=False, eval_metric=None, feature_types=None,\n",
              "             gamma=None, grow_policy=None, importance_type=None,\n",
              "             interaction_constraints=None, learning_rate=None, max_bin=None,\n",
              "             max_cat_threshold=None, max_cat_to_onehot=None,\n",
              "             max_delta_step=None, max_depth=None, max_leaves=None,\n",
              "             min_child_weight=None, missing=nan, monotone_constraints=None,\n",
              "             multi_strategy=None, n_estimators=None, n_jobs=None,\n",
              "             num_parallel_tree=None, random_state=None, ...)"
            ],
            "text/html": [
              "<style>#sk-container-id-1 {color: black;background-color: white;}#sk-container-id-1 pre{padding: 0;}#sk-container-id-1 div.sk-toggleable {background-color: white;}#sk-container-id-1 label.sk-toggleable__label {cursor: pointer;display: block;width: 100%;margin-bottom: 0;padding: 0.3em;box-sizing: border-box;text-align: center;}#sk-container-id-1 label.sk-toggleable__label-arrow:before {content: \"▸\";float: left;margin-right: 0.25em;color: #696969;}#sk-container-id-1 label.sk-toggleable__label-arrow:hover:before {color: black;}#sk-container-id-1 div.sk-estimator:hover label.sk-toggleable__label-arrow:before {color: black;}#sk-container-id-1 div.sk-toggleable__content {max-height: 0;max-width: 0;overflow: hidden;text-align: left;background-color: #f0f8ff;}#sk-container-id-1 div.sk-toggleable__content pre {margin: 0.2em;color: black;border-radius: 0.25em;background-color: #f0f8ff;}#sk-container-id-1 input.sk-toggleable__control:checked~div.sk-toggleable__content {max-height: 200px;max-width: 100%;overflow: auto;}#sk-container-id-1 input.sk-toggleable__control:checked~label.sk-toggleable__label-arrow:before {content: \"▾\";}#sk-container-id-1 div.sk-estimator input.sk-toggleable__control:checked~label.sk-toggleable__label {background-color: #d4ebff;}#sk-container-id-1 div.sk-label input.sk-toggleable__control:checked~label.sk-toggleable__label {background-color: #d4ebff;}#sk-container-id-1 input.sk-hidden--visually {border: 0;clip: rect(1px 1px 1px 1px);clip: rect(1px, 1px, 1px, 1px);height: 1px;margin: -1px;overflow: hidden;padding: 0;position: absolute;width: 1px;}#sk-container-id-1 div.sk-estimator {font-family: monospace;background-color: #f0f8ff;border: 1px dotted black;border-radius: 0.25em;box-sizing: border-box;margin-bottom: 0.5em;}#sk-container-id-1 div.sk-estimator:hover {background-color: #d4ebff;}#sk-container-id-1 div.sk-parallel-item::after {content: \"\";width: 100%;border-bottom: 1px solid gray;flex-grow: 1;}#sk-container-id-1 div.sk-label:hover label.sk-toggleable__label {background-color: #d4ebff;}#sk-container-id-1 div.sk-serial::before {content: \"\";position: absolute;border-left: 1px solid gray;box-sizing: border-box;top: 0;bottom: 0;left: 50%;z-index: 0;}#sk-container-id-1 div.sk-serial {display: flex;flex-direction: column;align-items: center;background-color: white;padding-right: 0.2em;padding-left: 0.2em;position: relative;}#sk-container-id-1 div.sk-item {position: relative;z-index: 1;}#sk-container-id-1 div.sk-parallel {display: flex;align-items: stretch;justify-content: center;background-color: white;position: relative;}#sk-container-id-1 div.sk-item::before, #sk-container-id-1 div.sk-parallel-item::before {content: \"\";position: absolute;border-left: 1px solid gray;box-sizing: border-box;top: 0;bottom: 0;left: 50%;z-index: -1;}#sk-container-id-1 div.sk-parallel-item {display: flex;flex-direction: column;z-index: 1;position: relative;background-color: white;}#sk-container-id-1 div.sk-parallel-item:first-child::after {align-self: flex-end;width: 50%;}#sk-container-id-1 div.sk-parallel-item:last-child::after {align-self: flex-start;width: 50%;}#sk-container-id-1 div.sk-parallel-item:only-child::after {width: 0;}#sk-container-id-1 div.sk-dashed-wrapped {border: 1px dashed gray;margin: 0 0.4em 0.5em 0.4em;box-sizing: border-box;padding-bottom: 0.4em;background-color: white;}#sk-container-id-1 div.sk-label label {font-family: monospace;font-weight: bold;display: inline-block;line-height: 1.2em;}#sk-container-id-1 div.sk-label-container {text-align: center;}#sk-container-id-1 div.sk-container {/* jupyter's `normalize.less` sets `[hidden] { display: none; }` but bootstrap.min.css set `[hidden] { display: none !important; }` so we also need the `!important` here to be able to override the default hidden behavior on the sphinx rendered scikit-learn.org. See: https://github.com/scikit-learn/scikit-learn/issues/21755 */display: inline-block !important;position: relative;}#sk-container-id-1 div.sk-text-repr-fallback {display: none;}</style><div id=\"sk-container-id-1\" class=\"sk-top-container\"><div class=\"sk-text-repr-fallback\"><pre>XGBRegressor(base_score=None, booster=None, callbacks=None,\n",
              "             colsample_bylevel=None, colsample_bynode=None,\n",
              "             colsample_bytree=None, device=None, early_stopping_rounds=None,\n",
              "             enable_categorical=False, eval_metric=None, feature_types=None,\n",
              "             gamma=None, grow_policy=None, importance_type=None,\n",
              "             interaction_constraints=None, learning_rate=None, max_bin=None,\n",
              "             max_cat_threshold=None, max_cat_to_onehot=None,\n",
              "             max_delta_step=None, max_depth=None, max_leaves=None,\n",
              "             min_child_weight=None, missing=nan, monotone_constraints=None,\n",
              "             multi_strategy=None, n_estimators=None, n_jobs=None,\n",
              "             num_parallel_tree=None, random_state=None, ...)</pre><b>In a Jupyter environment, please rerun this cell to show the HTML representation or trust the notebook. <br />On GitHub, the HTML representation is unable to render, please try loading this page with nbviewer.org.</b></div><div class=\"sk-container\" hidden><div class=\"sk-item\"><div class=\"sk-estimator sk-toggleable\"><input class=\"sk-toggleable__control sk-hidden--visually\" id=\"sk-estimator-id-1\" type=\"checkbox\" checked><label for=\"sk-estimator-id-1\" class=\"sk-toggleable__label sk-toggleable__label-arrow\">XGBRegressor</label><div class=\"sk-toggleable__content\"><pre>XGBRegressor(base_score=None, booster=None, callbacks=None,\n",
              "             colsample_bylevel=None, colsample_bynode=None,\n",
              "             colsample_bytree=None, device=None, early_stopping_rounds=None,\n",
              "             enable_categorical=False, eval_metric=None, feature_types=None,\n",
              "             gamma=None, grow_policy=None, importance_type=None,\n",
              "             interaction_constraints=None, learning_rate=None, max_bin=None,\n",
              "             max_cat_threshold=None, max_cat_to_onehot=None,\n",
              "             max_delta_step=None, max_depth=None, max_leaves=None,\n",
              "             min_child_weight=None, missing=nan, monotone_constraints=None,\n",
              "             multi_strategy=None, n_estimators=None, n_jobs=None,\n",
              "             num_parallel_tree=None, random_state=None, ...)</pre></div></div></div></div></div>"
            ]
          },
          "metadata": {},
          "execution_count": 19
        }
      ]
    },
    {
      "cell_type": "markdown",
      "source": [
        "### **Artificial Neural Network(ANN)**"
      ],
      "metadata": {
        "id": "XC051-NuChtn"
      }
    },
    {
      "cell_type": "code",
      "source": [
        "import tensorflow.keras\n",
        "from keras.models import Sequential\n",
        "from keras.layers import Dense"
      ],
      "metadata": {
        "id": "DanfonixCZyf"
      },
      "execution_count": 32,
      "outputs": []
    },
    {
      "cell_type": "markdown",
      "source": [
        "### **Initialize the ANN**"
      ],
      "metadata": {
        "id": "7_I050ThD_Bh"
      }
    },
    {
      "cell_type": "code",
      "source": [
        "ann = Sequential()"
      ],
      "metadata": {
        "id": "xgGTFaoQDvo7"
      },
      "execution_count": 33,
      "outputs": []
    },
    {
      "cell_type": "markdown",
      "source": [
        "### **Adding input layer and first hidden layer**"
      ],
      "metadata": {
        "id": "mXZQfzonETWQ"
      }
    },
    {
      "cell_type": "code",
      "source": [
        "ann.add(Dense(25, input_dim = 5, activation = 'relu'))\n",
        "\n",
        "#25 adalah jumlah hidden layer.\n",
        "#5 adalah jumlah input berasal dari dataset(label kolom data) yang diinputkan, yang terhubung dengan hidden layer pertama"
      ],
      "metadata": {
        "id": "sJduttu9Eamx"
      },
      "execution_count": 34,
      "outputs": []
    },
    {
      "cell_type": "markdown",
      "source": [
        "### **Adding second hidden layer**"
      ],
      "metadata": {
        "id": "ckJKuG-KEbjU"
      }
    },
    {
      "cell_type": "code",
      "source": [
        "ann.add(Dense(25, activation = 'relu'))"
      ],
      "metadata": {
        "id": "f1HqSQ3yEfLI"
      },
      "execution_count": 35,
      "outputs": []
    },
    {
      "cell_type": "markdown",
      "source": [
        "### **Adding output layer**"
      ],
      "metadata": {
        "id": "MfcMX9HFEiLw"
      }
    },
    {
      "cell_type": "code",
      "source": [
        "ann.add(Dense(1, activation = 'linear'))\n",
        "\n",
        "#1 adalah jumlah output yang diinginkan"
      ],
      "metadata": {
        "id": "XuElS0P-ElH-"
      },
      "execution_count": 36,
      "outputs": []
    },
    {
      "cell_type": "markdown",
      "source": [
        "### **Training the ANN**"
      ],
      "metadata": {
        "id": "rucrmdABEnEz"
      }
    },
    {
      "cell_type": "code",
      "source": [
        "ann.summary()"
      ],
      "metadata": {
        "colab": {
          "base_uri": "https://localhost:8080/"
        },
        "id": "_BEz0rt4EwSY",
        "outputId": "1fce2546-879e-4cb7-b503-10be82d1e277"
      },
      "execution_count": 37,
      "outputs": [
        {
          "output_type": "stream",
          "name": "stdout",
          "text": [
            "Model: \"sequential_1\"\n",
            "_________________________________________________________________\n",
            " Layer (type)                Output Shape              Param #   \n",
            "=================================================================\n",
            " dense_5 (Dense)             (None, 25)                150       \n",
            "                                                                 \n",
            " dense_6 (Dense)             (None, 25)                650       \n",
            "                                                                 \n",
            " dense_7 (Dense)             (None, 1)                 26        \n",
            "                                                                 \n",
            "=================================================================\n",
            "Total params: 826 (3.23 KB)\n",
            "Trainable params: 826 (3.23 KB)\n",
            "Non-trainable params: 0 (0.00 Byte)\n",
            "_________________________________________________________________\n"
          ]
        }
      ]
    },
    {
      "cell_type": "code",
      "source": [
        "ann.compile(optimizer = 'adam', loss = 'mean_squared_error')"
      ],
      "metadata": {
        "id": "lSRf-fSVKPwZ"
      },
      "execution_count": 39,
      "outputs": []
    },
    {
      "cell_type": "code",
      "source": [
        "ann.fit(\n",
        "    X_train, y_train,\n",
        "    epochs = 100,\n",
        "    batch_size = 50,\n",
        "    verbose = 1,\n",
        "    validation_split = 0.2\n",
        ")"
      ],
      "metadata": {
        "colab": {
          "base_uri": "https://localhost:8080/"
        },
        "id": "N83MPehhKf_B",
        "outputId": "74f4b28c-8fad-47bd-d197-ad59c672a5cd"
      },
      "execution_count": 42,
      "outputs": [
        {
          "output_type": "stream",
          "name": "stdout",
          "text": [
            "Epoch 1/100\n",
            "7/7 [==============================] - 2s 62ms/step - loss: 0.3258 - val_loss: 0.2158\n",
            "Epoch 2/100\n",
            "7/7 [==============================] - 0s 20ms/step - loss: 0.2021 - val_loss: 0.1179\n",
            "Epoch 3/100\n",
            "7/7 [==============================] - 0s 19ms/step - loss: 0.1169 - val_loss: 0.0587\n",
            "Epoch 4/100\n",
            "7/7 [==============================] - 0s 19ms/step - loss: 0.0662 - val_loss: 0.0323\n",
            "Epoch 5/100\n",
            "7/7 [==============================] - 0s 17ms/step - loss: 0.0413 - val_loss: 0.0264\n",
            "Epoch 6/100\n",
            "7/7 [==============================] - 0s 13ms/step - loss: 0.0315 - val_loss: 0.0236\n",
            "Epoch 7/100\n",
            "7/7 [==============================] - 0s 15ms/step - loss: 0.0252 - val_loss: 0.0178\n",
            "Epoch 8/100\n",
            "7/7 [==============================] - 0s 25ms/step - loss: 0.0191 - val_loss: 0.0124\n",
            "Epoch 9/100\n",
            "7/7 [==============================] - 0s 31ms/step - loss: 0.0151 - val_loss: 0.0094\n",
            "Epoch 10/100\n",
            "7/7 [==============================] - 0s 13ms/step - loss: 0.0127 - val_loss: 0.0084\n",
            "Epoch 11/100\n",
            "7/7 [==============================] - 0s 18ms/step - loss: 0.0116 - val_loss: 0.0079\n",
            "Epoch 12/100\n",
            "7/7 [==============================] - 0s 14ms/step - loss: 0.0108 - val_loss: 0.0078\n",
            "Epoch 13/100\n",
            "7/7 [==============================] - 0s 13ms/step - loss: 0.0104 - val_loss: 0.0076\n",
            "Epoch 14/100\n",
            "7/7 [==============================] - 0s 12ms/step - loss: 0.0100 - val_loss: 0.0074\n",
            "Epoch 15/100\n",
            "7/7 [==============================] - 0s 13ms/step - loss: 0.0096 - val_loss: 0.0071\n",
            "Epoch 16/100\n",
            "7/7 [==============================] - 0s 12ms/step - loss: 0.0093 - val_loss: 0.0068\n",
            "Epoch 17/100\n",
            "7/7 [==============================] - 0s 15ms/step - loss: 0.0088 - val_loss: 0.0065\n",
            "Epoch 18/100\n",
            "7/7 [==============================] - 0s 12ms/step - loss: 0.0083 - val_loss: 0.0062\n",
            "Epoch 19/100\n",
            "7/7 [==============================] - 0s 14ms/step - loss: 0.0078 - val_loss: 0.0059\n",
            "Epoch 20/100\n",
            "7/7 [==============================] - 0s 13ms/step - loss: 0.0074 - val_loss: 0.0056\n",
            "Epoch 21/100\n",
            "7/7 [==============================] - 0s 12ms/step - loss: 0.0070 - val_loss: 0.0054\n",
            "Epoch 22/100\n",
            "7/7 [==============================] - 0s 12ms/step - loss: 0.0067 - val_loss: 0.0051\n",
            "Epoch 23/100\n",
            "7/7 [==============================] - 0s 12ms/step - loss: 0.0064 - val_loss: 0.0048\n",
            "Epoch 24/100\n",
            "7/7 [==============================] - 0s 12ms/step - loss: 0.0060 - val_loss: 0.0046\n",
            "Epoch 25/100\n",
            "7/7 [==============================] - 0s 14ms/step - loss: 0.0057 - val_loss: 0.0044\n",
            "Epoch 26/100\n",
            "7/7 [==============================] - 0s 13ms/step - loss: 0.0055 - val_loss: 0.0042\n",
            "Epoch 27/100\n",
            "7/7 [==============================] - 0s 12ms/step - loss: 0.0052 - val_loss: 0.0040\n",
            "Epoch 28/100\n",
            "7/7 [==============================] - 0s 16ms/step - loss: 0.0049 - val_loss: 0.0038\n",
            "Epoch 29/100\n",
            "7/7 [==============================] - 0s 10ms/step - loss: 0.0047 - val_loss: 0.0035\n",
            "Epoch 30/100\n",
            "7/7 [==============================] - 0s 13ms/step - loss: 0.0045 - val_loss: 0.0033\n",
            "Epoch 31/100\n",
            "7/7 [==============================] - 0s 15ms/step - loss: 0.0042 - val_loss: 0.0032\n",
            "Epoch 32/100\n",
            "7/7 [==============================] - 0s 14ms/step - loss: 0.0040 - val_loss: 0.0031\n",
            "Epoch 33/100\n",
            "7/7 [==============================] - 0s 21ms/step - loss: 0.0038 - val_loss: 0.0029\n",
            "Epoch 34/100\n",
            "7/7 [==============================] - 0s 23ms/step - loss: 0.0036 - val_loss: 0.0028\n",
            "Epoch 35/100\n",
            "7/7 [==============================] - 0s 31ms/step - loss: 0.0034 - val_loss: 0.0027\n",
            "Epoch 36/100\n",
            "7/7 [==============================] - 0s 21ms/step - loss: 0.0032 - val_loss: 0.0025\n",
            "Epoch 37/100\n",
            "7/7 [==============================] - 0s 25ms/step - loss: 0.0031 - val_loss: 0.0023\n",
            "Epoch 38/100\n",
            "7/7 [==============================] - 0s 22ms/step - loss: 0.0029 - val_loss: 0.0022\n",
            "Epoch 39/100\n",
            "7/7 [==============================] - 0s 21ms/step - loss: 0.0027 - val_loss: 0.0020\n",
            "Epoch 40/100\n",
            "7/7 [==============================] - 0s 22ms/step - loss: 0.0025 - val_loss: 0.0019\n",
            "Epoch 41/100\n",
            "7/7 [==============================] - 0s 22ms/step - loss: 0.0023 - val_loss: 0.0017\n",
            "Epoch 42/100\n",
            "7/7 [==============================] - 0s 26ms/step - loss: 0.0022 - val_loss: 0.0016\n",
            "Epoch 43/100\n",
            "7/7 [==============================] - 0s 18ms/step - loss: 0.0020 - val_loss: 0.0015\n",
            "Epoch 44/100\n",
            "7/7 [==============================] - 0s 21ms/step - loss: 0.0018 - val_loss: 0.0013\n",
            "Epoch 45/100\n",
            "7/7 [==============================] - 0s 20ms/step - loss: 0.0016 - val_loss: 0.0012\n",
            "Epoch 46/100\n",
            "7/7 [==============================] - 0s 22ms/step - loss: 0.0015 - val_loss: 0.0011\n",
            "Epoch 47/100\n",
            "7/7 [==============================] - 0s 12ms/step - loss: 0.0013 - val_loss: 9.8746e-04\n",
            "Epoch 48/100\n",
            "7/7 [==============================] - 0s 14ms/step - loss: 0.0012 - val_loss: 8.6903e-04\n",
            "Epoch 49/100\n",
            "7/7 [==============================] - 0s 13ms/step - loss: 0.0011 - val_loss: 7.7511e-04\n",
            "Epoch 50/100\n",
            "7/7 [==============================] - 0s 9ms/step - loss: 9.3806e-04 - val_loss: 7.0140e-04\n",
            "Epoch 51/100\n",
            "7/7 [==============================] - 0s 12ms/step - loss: 8.3616e-04 - val_loss: 6.1648e-04\n",
            "Epoch 52/100\n",
            "7/7 [==============================] - 0s 9ms/step - loss: 7.5177e-04 - val_loss: 5.4953e-04\n",
            "Epoch 53/100\n",
            "7/7 [==============================] - 0s 12ms/step - loss: 6.7151e-04 - val_loss: 4.8805e-04\n",
            "Epoch 54/100\n",
            "7/7 [==============================] - 0s 10ms/step - loss: 5.9721e-04 - val_loss: 4.3806e-04\n",
            "Epoch 55/100\n",
            "7/7 [==============================] - 0s 13ms/step - loss: 5.2630e-04 - val_loss: 3.8351e-04\n",
            "Epoch 56/100\n",
            "7/7 [==============================] - 0s 13ms/step - loss: 4.7068e-04 - val_loss: 3.4176e-04\n",
            "Epoch 57/100\n",
            "7/7 [==============================] - 0s 12ms/step - loss: 4.2264e-04 - val_loss: 2.9874e-04\n",
            "Epoch 58/100\n",
            "7/7 [==============================] - 0s 9ms/step - loss: 3.8050e-04 - val_loss: 2.6669e-04\n",
            "Epoch 59/100\n",
            "7/7 [==============================] - 0s 9ms/step - loss: 3.5102e-04 - val_loss: 2.4450e-04\n",
            "Epoch 60/100\n",
            "7/7 [==============================] - 0s 9ms/step - loss: 3.1731e-04 - val_loss: 2.1797e-04\n",
            "Epoch 61/100\n",
            "7/7 [==============================] - 0s 14ms/step - loss: 2.9381e-04 - val_loss: 1.9882e-04\n",
            "Epoch 62/100\n",
            "7/7 [==============================] - 0s 15ms/step - loss: 2.7508e-04 - val_loss: 1.8146e-04\n",
            "Epoch 63/100\n",
            "7/7 [==============================] - 0s 9ms/step - loss: 2.7024e-04 - val_loss: 1.7390e-04\n",
            "Epoch 64/100\n",
            "7/7 [==============================] - 0s 10ms/step - loss: 2.4896e-04 - val_loss: 1.5618e-04\n",
            "Epoch 65/100\n",
            "7/7 [==============================] - 0s 13ms/step - loss: 2.2913e-04 - val_loss: 1.4543e-04\n",
            "Epoch 66/100\n",
            "7/7 [==============================] - 0s 10ms/step - loss: 2.2240e-04 - val_loss: 1.3997e-04\n",
            "Epoch 67/100\n",
            "7/7 [==============================] - 0s 13ms/step - loss: 2.0590e-04 - val_loss: 1.3087e-04\n",
            "Epoch 68/100\n",
            "7/7 [==============================] - 0s 12ms/step - loss: 2.0231e-04 - val_loss: 1.2783e-04\n",
            "Epoch 69/100\n",
            "7/7 [==============================] - 0s 10ms/step - loss: 1.8692e-04 - val_loss: 1.2031e-04\n",
            "Epoch 70/100\n",
            "7/7 [==============================] - 0s 13ms/step - loss: 1.8371e-04 - val_loss: 1.2204e-04\n",
            "Epoch 71/100\n",
            "7/7 [==============================] - 0s 12ms/step - loss: 1.7661e-04 - val_loss: 1.1670e-04\n",
            "Epoch 72/100\n",
            "7/7 [==============================] - 0s 14ms/step - loss: 1.6921e-04 - val_loss: 1.1962e-04\n",
            "Epoch 73/100\n",
            "7/7 [==============================] - 0s 13ms/step - loss: 1.6305e-04 - val_loss: 1.0941e-04\n",
            "Epoch 74/100\n",
            "7/7 [==============================] - 0s 14ms/step - loss: 1.5665e-04 - val_loss: 1.0763e-04\n",
            "Epoch 75/100\n",
            "7/7 [==============================] - 0s 8ms/step - loss: 1.5170e-04 - val_loss: 9.8482e-05\n",
            "Epoch 76/100\n",
            "7/7 [==============================] - 0s 7ms/step - loss: 1.4479e-04 - val_loss: 9.7753e-05\n",
            "Epoch 77/100\n",
            "7/7 [==============================] - 0s 7ms/step - loss: 1.4208e-04 - val_loss: 9.7944e-05\n",
            "Epoch 78/100\n",
            "7/7 [==============================] - 0s 10ms/step - loss: 1.4987e-04 - val_loss: 1.0126e-04\n",
            "Epoch 79/100\n",
            "7/7 [==============================] - 0s 9ms/step - loss: 1.3619e-04 - val_loss: 8.6129e-05\n",
            "Epoch 80/100\n",
            "7/7 [==============================] - 0s 10ms/step - loss: 1.2972e-04 - val_loss: 8.5621e-05\n",
            "Epoch 81/100\n",
            "7/7 [==============================] - 0s 7ms/step - loss: 1.2704e-04 - val_loss: 8.5654e-05\n",
            "Epoch 82/100\n",
            "7/7 [==============================] - 0s 7ms/step - loss: 1.2293e-04 - val_loss: 8.1237e-05\n",
            "Epoch 83/100\n",
            "7/7 [==============================] - 0s 7ms/step - loss: 1.2506e-04 - val_loss: 8.0754e-05\n",
            "Epoch 84/100\n",
            "7/7 [==============================] - 0s 7ms/step - loss: 1.1655e-04 - val_loss: 7.9020e-05\n",
            "Epoch 85/100\n",
            "7/7 [==============================] - 0s 10ms/step - loss: 1.1590e-04 - val_loss: 7.4986e-05\n",
            "Epoch 86/100\n",
            "7/7 [==============================] - 0s 7ms/step - loss: 1.0846e-04 - val_loss: 7.8546e-05\n",
            "Epoch 87/100\n",
            "7/7 [==============================] - 0s 7ms/step - loss: 1.0759e-04 - val_loss: 7.5586e-05\n",
            "Epoch 88/100\n",
            "7/7 [==============================] - 0s 7ms/step - loss: 1.0629e-04 - val_loss: 9.2016e-05\n",
            "Epoch 89/100\n",
            "7/7 [==============================] - 0s 7ms/step - loss: 1.0690e-04 - val_loss: 6.9037e-05\n",
            "Epoch 90/100\n",
            "7/7 [==============================] - 0s 7ms/step - loss: 1.0326e-04 - val_loss: 6.9857e-05\n",
            "Epoch 91/100\n",
            "7/7 [==============================] - 0s 8ms/step - loss: 9.9008e-05 - val_loss: 6.9130e-05\n",
            "Epoch 92/100\n",
            "7/7 [==============================] - 0s 7ms/step - loss: 9.4602e-05 - val_loss: 6.4660e-05\n",
            "Epoch 93/100\n",
            "7/7 [==============================] - 0s 7ms/step - loss: 9.0549e-05 - val_loss: 6.8715e-05\n",
            "Epoch 94/100\n",
            "7/7 [==============================] - 0s 7ms/step - loss: 8.9588e-05 - val_loss: 6.2420e-05\n",
            "Epoch 95/100\n",
            "7/7 [==============================] - 0s 7ms/step - loss: 8.5797e-05 - val_loss: 6.6493e-05\n",
            "Epoch 96/100\n",
            "7/7 [==============================] - 0s 7ms/step - loss: 8.4133e-05 - val_loss: 6.0348e-05\n",
            "Epoch 97/100\n",
            "7/7 [==============================] - 0s 7ms/step - loss: 8.2809e-05 - val_loss: 6.1685e-05\n",
            "Epoch 98/100\n",
            "7/7 [==============================] - 0s 7ms/step - loss: 7.9946e-05 - val_loss: 6.1484e-05\n",
            "Epoch 99/100\n",
            "7/7 [==============================] - 0s 9ms/step - loss: 7.8124e-05 - val_loss: 6.0005e-05\n",
            "Epoch 100/100\n",
            "7/7 [==============================] - 0s 7ms/step - loss: 7.7040e-05 - val_loss: 5.8296e-05\n"
          ]
        },
        {
          "output_type": "execute_result",
          "data": {
            "text/plain": [
              "<keras.src.callbacks.History at 0x7cbd2616f4c0>"
            ]
          },
          "metadata": {},
          "execution_count": 42
        }
      ]
    },
    {
      "cell_type": "markdown",
      "source": [
        "### **Prediction data**"
      ],
      "metadata": {
        "id": "Lh5apiWBEqtw"
      }
    },
    {
      "cell_type": "code",
      "source": [
        "y_pred1 = lr.predict(X_test)\n",
        "y_pred2 = svm.predict(X_test)\n",
        "y_pred3 = rf.predict(X_test)\n",
        "y_pred4 = gbr.predict(X_test)\n",
        "y_pred5 = xgb.predict(X_test)\n",
        "y_pred6 = ann.predict(X_test)"
      ],
      "metadata": {
        "colab": {
          "base_uri": "https://localhost:8080/"
        },
        "id": "pg6SIOtwI8bY",
        "outputId": "5148639a-69b2-43a9-b261-e1dfebba4a12"
      },
      "execution_count": 43,
      "outputs": [
        {
          "output_type": "stream",
          "name": "stdout",
          "text": [
            "4/4 [==============================] - 0s 5ms/step\n"
          ]
        }
      ]
    },
    {
      "cell_type": "markdown",
      "source": [
        "### **Evaluating the Algorithm**"
      ],
      "metadata": {
        "id": "Pj0VbgwkLxwo"
      }
    },
    {
      "cell_type": "code",
      "source": [
        "from sklearn import metrics"
      ],
      "metadata": {
        "id": "76bYMDv9Ls35"
      },
      "execution_count": 44,
      "outputs": []
    },
    {
      "cell_type": "code",
      "source": [
        "score1 = metrics.r2_score(y_test, y_pred1)\n",
        "score2 = metrics.r2_score(y_test, y_pred2)\n",
        "score3 = metrics.r2_score(y_test, y_pred3)\n",
        "score4 = metrics.r2_score(y_test, y_pred4)\n",
        "score5 = metrics.r2_score(y_test, y_pred5)\n",
        "score6 = metrics.r2_score(y_test, y_pred6)"
      ],
      "metadata": {
        "id": "HJUgQec7L8dw"
      },
      "execution_count": 45,
      "outputs": []
    },
    {
      "cell_type": "code",
      "source": [
        "print(score1, score2, score3, score4, score5, score6)"
      ],
      "metadata": {
        "colab": {
          "base_uri": "https://localhost:8080/"
        },
        "id": "6S3wXMS0MLbf",
        "outputId": "15b3248b-5aa7-439f-8721-565fba843321"
      },
      "execution_count": 46,
      "outputs": [
        {
          "output_type": "stream",
          "name": "stdout",
          "text": [
            "0.9994234310992762 0.9547066777872097 0.9518879624915771 0.9744174226877651 0.9505777322717386 0.9958226513418309\n"
          ]
        }
      ]
    },
    {
      "cell_type": "code",
      "source": [
        "final_data = pd.DataFrame({\n",
        "    'Models' : ['LR', 'SVM', 'RF', 'GBR', 'XGB', 'ANN'],\n",
        "    'Score' : [score1, score2, score3, score4, score5, score6]\n",
        "})\n",
        "\n",
        "final_data"
      ],
      "metadata": {
        "colab": {
          "base_uri": "https://localhost:8080/",
          "height": 238
        },
        "id": "wv5AHb-PMVTF",
        "outputId": "d56167fd-8044-42c2-90aa-c985bf44e393"
      },
      "execution_count": 48,
      "outputs": [
        {
          "output_type": "execute_result",
          "data": {
            "text/plain": [
              "  Models     Score\n",
              "0     LR  0.999423\n",
              "1    SVM  0.954707\n",
              "2     RF  0.951888\n",
              "3    GBR  0.974417\n",
              "4    XGB  0.950578\n",
              "5    ANN  0.995823"
            ],
            "text/html": [
              "\n",
              "  <div id=\"df-c246278b-86f2-459b-93d2-848bb9a5b57a\" class=\"colab-df-container\">\n",
              "    <div>\n",
              "<style scoped>\n",
              "    .dataframe tbody tr th:only-of-type {\n",
              "        vertical-align: middle;\n",
              "    }\n",
              "\n",
              "    .dataframe tbody tr th {\n",
              "        vertical-align: top;\n",
              "    }\n",
              "\n",
              "    .dataframe thead th {\n",
              "        text-align: right;\n",
              "    }\n",
              "</style>\n",
              "<table border=\"1\" class=\"dataframe\">\n",
              "  <thead>\n",
              "    <tr style=\"text-align: right;\">\n",
              "      <th></th>\n",
              "      <th>Models</th>\n",
              "      <th>Score</th>\n",
              "    </tr>\n",
              "  </thead>\n",
              "  <tbody>\n",
              "    <tr>\n",
              "      <th>0</th>\n",
              "      <td>LR</td>\n",
              "      <td>0.999423</td>\n",
              "    </tr>\n",
              "    <tr>\n",
              "      <th>1</th>\n",
              "      <td>SVM</td>\n",
              "      <td>0.954707</td>\n",
              "    </tr>\n",
              "    <tr>\n",
              "      <th>2</th>\n",
              "      <td>RF</td>\n",
              "      <td>0.951888</td>\n",
              "    </tr>\n",
              "    <tr>\n",
              "      <th>3</th>\n",
              "      <td>GBR</td>\n",
              "      <td>0.974417</td>\n",
              "    </tr>\n",
              "    <tr>\n",
              "      <th>4</th>\n",
              "      <td>XGB</td>\n",
              "      <td>0.950578</td>\n",
              "    </tr>\n",
              "    <tr>\n",
              "      <th>5</th>\n",
              "      <td>ANN</td>\n",
              "      <td>0.995823</td>\n",
              "    </tr>\n",
              "  </tbody>\n",
              "</table>\n",
              "</div>\n",
              "    <div class=\"colab-df-buttons\">\n",
              "\n",
              "  <div class=\"colab-df-container\">\n",
              "    <button class=\"colab-df-convert\" onclick=\"convertToInteractive('df-c246278b-86f2-459b-93d2-848bb9a5b57a')\"\n",
              "            title=\"Convert this dataframe to an interactive table.\"\n",
              "            style=\"display:none;\">\n",
              "\n",
              "  <svg xmlns=\"http://www.w3.org/2000/svg\" height=\"24px\" viewBox=\"0 -960 960 960\">\n",
              "    <path d=\"M120-120v-720h720v720H120Zm60-500h600v-160H180v160Zm220 220h160v-160H400v160Zm0 220h160v-160H400v160ZM180-400h160v-160H180v160Zm440 0h160v-160H620v160ZM180-180h160v-160H180v160Zm440 0h160v-160H620v160Z\"/>\n",
              "  </svg>\n",
              "    </button>\n",
              "\n",
              "  <style>\n",
              "    .colab-df-container {\n",
              "      display:flex;\n",
              "      gap: 12px;\n",
              "    }\n",
              "\n",
              "    .colab-df-convert {\n",
              "      background-color: #E8F0FE;\n",
              "      border: none;\n",
              "      border-radius: 50%;\n",
              "      cursor: pointer;\n",
              "      display: none;\n",
              "      fill: #1967D2;\n",
              "      height: 32px;\n",
              "      padding: 0 0 0 0;\n",
              "      width: 32px;\n",
              "    }\n",
              "\n",
              "    .colab-df-convert:hover {\n",
              "      background-color: #E2EBFA;\n",
              "      box-shadow: 0px 1px 2px rgba(60, 64, 67, 0.3), 0px 1px 3px 1px rgba(60, 64, 67, 0.15);\n",
              "      fill: #174EA6;\n",
              "    }\n",
              "\n",
              "    .colab-df-buttons div {\n",
              "      margin-bottom: 4px;\n",
              "    }\n",
              "\n",
              "    [theme=dark] .colab-df-convert {\n",
              "      background-color: #3B4455;\n",
              "      fill: #D2E3FC;\n",
              "    }\n",
              "\n",
              "    [theme=dark] .colab-df-convert:hover {\n",
              "      background-color: #434B5C;\n",
              "      box-shadow: 0px 1px 3px 1px rgba(0, 0, 0, 0.15);\n",
              "      filter: drop-shadow(0px 1px 2px rgba(0, 0, 0, 0.3));\n",
              "      fill: #FFFFFF;\n",
              "    }\n",
              "  </style>\n",
              "\n",
              "    <script>\n",
              "      const buttonEl =\n",
              "        document.querySelector('#df-c246278b-86f2-459b-93d2-848bb9a5b57a button.colab-df-convert');\n",
              "      buttonEl.style.display =\n",
              "        google.colab.kernel.accessAllowed ? 'block' : 'none';\n",
              "\n",
              "      async function convertToInteractive(key) {\n",
              "        const element = document.querySelector('#df-c246278b-86f2-459b-93d2-848bb9a5b57a');\n",
              "        const dataTable =\n",
              "          await google.colab.kernel.invokeFunction('convertToInteractive',\n",
              "                                                    [key], {});\n",
              "        if (!dataTable) return;\n",
              "\n",
              "        const docLinkHtml = 'Like what you see? Visit the ' +\n",
              "          '<a target=\"_blank\" href=https://colab.research.google.com/notebooks/data_table.ipynb>data table notebook</a>'\n",
              "          + ' to learn more about interactive tables.';\n",
              "        element.innerHTML = '';\n",
              "        dataTable['output_type'] = 'display_data';\n",
              "        await google.colab.output.renderOutput(dataTable, element);\n",
              "        const docLink = document.createElement('div');\n",
              "        docLink.innerHTML = docLinkHtml;\n",
              "        element.appendChild(docLink);\n",
              "      }\n",
              "    </script>\n",
              "  </div>\n",
              "\n",
              "\n",
              "<div id=\"df-8fa56b2b-3584-4f01-97ef-6b424decd58f\">\n",
              "  <button class=\"colab-df-quickchart\" onclick=\"quickchart('df-8fa56b2b-3584-4f01-97ef-6b424decd58f')\"\n",
              "            title=\"Suggest charts\"\n",
              "            style=\"display:none;\">\n",
              "\n",
              "<svg xmlns=\"http://www.w3.org/2000/svg\" height=\"24px\"viewBox=\"0 0 24 24\"\n",
              "     width=\"24px\">\n",
              "    <g>\n",
              "        <path d=\"M19 3H5c-1.1 0-2 .9-2 2v14c0 1.1.9 2 2 2h14c1.1 0 2-.9 2-2V5c0-1.1-.9-2-2-2zM9 17H7v-7h2v7zm4 0h-2V7h2v10zm4 0h-2v-4h2v4z\"/>\n",
              "    </g>\n",
              "</svg>\n",
              "  </button>\n",
              "\n",
              "<style>\n",
              "  .colab-df-quickchart {\n",
              "      --bg-color: #E8F0FE;\n",
              "      --fill-color: #1967D2;\n",
              "      --hover-bg-color: #E2EBFA;\n",
              "      --hover-fill-color: #174EA6;\n",
              "      --disabled-fill-color: #AAA;\n",
              "      --disabled-bg-color: #DDD;\n",
              "  }\n",
              "\n",
              "  [theme=dark] .colab-df-quickchart {\n",
              "      --bg-color: #3B4455;\n",
              "      --fill-color: #D2E3FC;\n",
              "      --hover-bg-color: #434B5C;\n",
              "      --hover-fill-color: #FFFFFF;\n",
              "      --disabled-bg-color: #3B4455;\n",
              "      --disabled-fill-color: #666;\n",
              "  }\n",
              "\n",
              "  .colab-df-quickchart {\n",
              "    background-color: var(--bg-color);\n",
              "    border: none;\n",
              "    border-radius: 50%;\n",
              "    cursor: pointer;\n",
              "    display: none;\n",
              "    fill: var(--fill-color);\n",
              "    height: 32px;\n",
              "    padding: 0;\n",
              "    width: 32px;\n",
              "  }\n",
              "\n",
              "  .colab-df-quickchart:hover {\n",
              "    background-color: var(--hover-bg-color);\n",
              "    box-shadow: 0 1px 2px rgba(60, 64, 67, 0.3), 0 1px 3px 1px rgba(60, 64, 67, 0.15);\n",
              "    fill: var(--button-hover-fill-color);\n",
              "  }\n",
              "\n",
              "  .colab-df-quickchart-complete:disabled,\n",
              "  .colab-df-quickchart-complete:disabled:hover {\n",
              "    background-color: var(--disabled-bg-color);\n",
              "    fill: var(--disabled-fill-color);\n",
              "    box-shadow: none;\n",
              "  }\n",
              "\n",
              "  .colab-df-spinner {\n",
              "    border: 2px solid var(--fill-color);\n",
              "    border-color: transparent;\n",
              "    border-bottom-color: var(--fill-color);\n",
              "    animation:\n",
              "      spin 1s steps(1) infinite;\n",
              "  }\n",
              "\n",
              "  @keyframes spin {\n",
              "    0% {\n",
              "      border-color: transparent;\n",
              "      border-bottom-color: var(--fill-color);\n",
              "      border-left-color: var(--fill-color);\n",
              "    }\n",
              "    20% {\n",
              "      border-color: transparent;\n",
              "      border-left-color: var(--fill-color);\n",
              "      border-top-color: var(--fill-color);\n",
              "    }\n",
              "    30% {\n",
              "      border-color: transparent;\n",
              "      border-left-color: var(--fill-color);\n",
              "      border-top-color: var(--fill-color);\n",
              "      border-right-color: var(--fill-color);\n",
              "    }\n",
              "    40% {\n",
              "      border-color: transparent;\n",
              "      border-right-color: var(--fill-color);\n",
              "      border-top-color: var(--fill-color);\n",
              "    }\n",
              "    60% {\n",
              "      border-color: transparent;\n",
              "      border-right-color: var(--fill-color);\n",
              "    }\n",
              "    80% {\n",
              "      border-color: transparent;\n",
              "      border-right-color: var(--fill-color);\n",
              "      border-bottom-color: var(--fill-color);\n",
              "    }\n",
              "    90% {\n",
              "      border-color: transparent;\n",
              "      border-bottom-color: var(--fill-color);\n",
              "    }\n",
              "  }\n",
              "</style>\n",
              "\n",
              "  <script>\n",
              "    async function quickchart(key) {\n",
              "      const quickchartButtonEl =\n",
              "        document.querySelector('#' + key + ' button');\n",
              "      quickchartButtonEl.disabled = true;  // To prevent multiple clicks.\n",
              "      quickchartButtonEl.classList.add('colab-df-spinner');\n",
              "      try {\n",
              "        const charts = await google.colab.kernel.invokeFunction(\n",
              "            'suggestCharts', [key], {});\n",
              "      } catch (error) {\n",
              "        console.error('Error during call to suggestCharts:', error);\n",
              "      }\n",
              "      quickchartButtonEl.classList.remove('colab-df-spinner');\n",
              "      quickchartButtonEl.classList.add('colab-df-quickchart-complete');\n",
              "    }\n",
              "    (() => {\n",
              "      let quickchartButtonEl =\n",
              "        document.querySelector('#df-8fa56b2b-3584-4f01-97ef-6b424decd58f button');\n",
              "      quickchartButtonEl.style.display =\n",
              "        google.colab.kernel.accessAllowed ? 'block' : 'none';\n",
              "    })();\n",
              "  </script>\n",
              "</div>\n",
              "    </div>\n",
              "  </div>\n"
            ]
          },
          "metadata": {},
          "execution_count": 48
        }
      ]
    },
    {
      "cell_type": "code",
      "source": [
        "import seaborn as sns\n",
        "\n",
        "sns.barplot(x = final_data['Models'], y = final_data['Score']);"
      ],
      "metadata": {
        "colab": {
          "base_uri": "https://localhost:8080/",
          "height": 449
        },
        "id": "3fMBeJJkM2DX",
        "outputId": "dfe0e776-b40e-4762-dd07-9c0dd5d04c54"
      },
      "execution_count": 50,
      "outputs": [
        {
          "output_type": "display_data",
          "data": {
            "text/plain": [
              "<Figure size 640x480 with 1 Axes>"
            ],
            "image/png": "[encoded data removed]"
          },
          "metadata": {}
        }
      ]
    },
    {
      "cell_type": "code",
      "source": [],
      "metadata": {
        "id": "7EoW_-Q2NGhz"
      },
      "execution_count": null,
      "outputs": []
    }
  ]
}